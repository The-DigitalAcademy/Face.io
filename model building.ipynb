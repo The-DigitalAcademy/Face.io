{
  "cells": [
    {
      "cell_type": "code",
      "execution_count": 1,
      "metadata": {
        "colab": {
          "base_uri": "https://localhost:8080/"
        },
        "id": "PCq5Fk1X2_fO",
        "outputId": "65e4300b-feb9-4c64-be33-f760960bdc75"
      },
      "outputs": [
        {
          "name": "stdout",
          "output_type": "stream",
          "text": [
            "Requirement already satisfied: opendatasets in /Users/ds_learner16/miniforge3/lib/python3.10/site-packages (0.1.22)\n",
            "Requirement already satisfied: kaggle in /Users/ds_learner16/miniforge3/lib/python3.10/site-packages (from opendatasets) (1.5.13)\n",
            "Requirement already satisfied: tqdm in /Users/ds_learner16/miniforge3/lib/python3.10/site-packages (from opendatasets) (4.64.1)\n",
            "Requirement already satisfied: click in /Users/ds_learner16/miniforge3/lib/python3.10/site-packages (from opendatasets) (8.1.3)\n",
            "Requirement already satisfied: six>=1.10 in /Users/ds_learner16/miniforge3/lib/python3.10/site-packages (from kaggle->opendatasets) (1.16.0)\n",
            "Requirement already satisfied: certifi in /Users/ds_learner16/miniforge3/lib/python3.10/site-packages (from kaggle->opendatasets) (2022.12.7)\n",
            "Requirement already satisfied: python-slugify in /Users/ds_learner16/miniforge3/lib/python3.10/site-packages (from kaggle->opendatasets) (8.0.1)\n",
            "Requirement already satisfied: urllib3 in /Users/ds_learner16/miniforge3/lib/python3.10/site-packages (from kaggle->opendatasets) (1.26.13)\n",
            "Requirement already satisfied: requests in /Users/ds_learner16/miniforge3/lib/python3.10/site-packages (from kaggle->opendatasets) (2.28.1)\n",
            "Requirement already satisfied: python-dateutil in /Users/ds_learner16/.local/lib/python3.10/site-packages (from kaggle->opendatasets) (2.8.2)\n",
            "Requirement already satisfied: text-unidecode>=1.3 in /Users/ds_learner16/miniforge3/lib/python3.10/site-packages (from python-slugify->kaggle->opendatasets) (1.3)\n",
            "Requirement already satisfied: idna<4,>=2.5 in /Users/ds_learner16/miniforge3/lib/python3.10/site-packages (from requests->kaggle->opendatasets) (3.4)\n",
            "Requirement already satisfied: charset-normalizer<3,>=2 in /Users/ds_learner16/miniforge3/lib/python3.10/site-packages (from requests->kaggle->opendatasets) (2.1.1)\n",
            "Skipping, found downloaded files in \"./avengers-faces-dataset\" (use force=True to force download)\n"
          ]
        }
      ],
      "source": [
        "! pip install opendatasets\n",
        "import opendatasets as od\n",
        "od.download(\"https://www.kaggle.com/datasets/yasserh/avengers-faces-dataset/download?datasetVersionNumber=1\")"
      ]
    },
    {
      "cell_type": "code",
      "execution_count": 1,
      "metadata": {
        "id": "a-6m1eCldsLp"
      },
      "outputs": [],
      "source": [
        "import os\n",
        "import pandas as pd\n",
        "import numpy as np\n",
        "import tensorflow.keras as keras\n",
        "import matplotlib.pyplot as plt\n",
        "\n",
        "from tensorflow.keras.layers import Dense, GlobalAveragePooling2D\n",
        "\n",
        "from tensorflow.keras.preprocessing import image\n",
        "from tensorflow.keras.applications.mobilenet import preprocess_input\n",
        "\n",
        "from tensorflow.keras.preprocessing.image import ImageDataGenerator\n",
        "\n",
        "from tensorflow.keras.models import Model\n",
        "\n",
        "from tensorflow.keras.optimizers import Adam\n"
      ]
    },
    {
      "cell_type": "code",
      "execution_count": 60,
      "metadata": {
        "colab": {
          "base_uri": "https://localhost:8080/"
        },
        "id": "mrnA1-f3d2qL",
        "outputId": "a35d3e23-c891-4e76-f20c-909b82ebaf39"
      },
      "outputs": [
        {
          "name": "stdout",
          "output_type": "stream",
          "text": [
            "Found 347 images belonging to 12 classes.\n",
            "Found 362 images belonging to 12 classes.\n"
          ]
        }
      ],
      "source": [
        "train_datagen = ImageDataGenerator(\n",
        "    preprocessing_function=preprocess_input,\n",
        "    rotation_range=30,\n",
        "    width_shift_range=0.2,\n",
        "    height_shift_range=0.2,\n",
        "    shear_range=0.2,\n",
        "    zoom_range=0.2,\n",
        "    horizontal_flip=True,\n",
        "    fill_mode='nearest')\n",
        "\n",
        "train_generator = \\\n",
        "    train_datagen.flow_from_directory(\n",
        "'photos/train',\n",
        "target_size=(224,224),\n",
        "color_mode='rgb',\n",
        "batch_size=32,\n",
        "class_mode='categorical',\n",
        "shuffle=True,\n",
        ")\n",
        "\n",
        "\n",
        "test_generator = \\\n",
        "    train_datagen.flow_from_directory(\n",
        "'photos/test',\n",
        "target_size=(224,224),\n",
        "color_mode='rgb',\n",
        "batch_size=32,\n",
        "class_mode='categorical',\n",
        "shuffle=True)\n",
        "    "
      ]
    },
    {
      "cell_type": "code",
      "execution_count": 75,
      "metadata": {
        "id": "OXlU8cXteKhz"
      },
      "outputs": [],
      "source": [
        "train_generator.class_indices.values()\n",
        "CLASSES = len(train_generator.class_indices.values())"
      ]
    },
    {
      "cell_type": "code",
      "execution_count": 76,
      "metadata": {
        "colab": {
          "base_uri": "https://localhost:8080/"
        },
        "id": "kR4aqCxjeU-B",
        "outputId": "5afab4fb-64ac-412f-a4dd-d8ea79d44192"
      },
      "outputs": [
        {
          "name": "stdout",
          "output_type": "stream",
          "text": [
            "Requirement already satisfied: keras_applications in /Users/ds_learner16/miniconda3/lib/python3.10/site-packages (1.0.8)\n",
            "Requirement already satisfied: h5py in /Users/ds_learner16/miniconda3/lib/python3.10/site-packages (from keras_applications) (3.8.0)\n",
            "Requirement already satisfied: numpy>=1.9.1 in /Users/ds_learner16/miniconda3/lib/python3.10/site-packages (from keras_applications) (1.23.5)\n",
            "Collecting keras==2.1.5\n",
            "  Using cached Keras-2.1.5-py2.py3-none-any.whl (334 kB)\n",
            "Requirement already satisfied: numpy>=1.9.1 in /Users/ds_learner16/miniconda3/lib/python3.10/site-packages (from keras==2.1.5) (1.23.5)\n",
            "Requirement already satisfied: six>=1.9.0 in /Users/ds_learner16/miniconda3/lib/python3.10/site-packages (from keras==2.1.5) (1.16.0)\n",
            "Requirement already satisfied: scipy>=0.14 in /Users/ds_learner16/miniconda3/lib/python3.10/site-packages (from keras==2.1.5) (1.10.1)\n",
            "Requirement already satisfied: pyyaml in /Users/ds_learner16/miniconda3/lib/python3.10/site-packages (from keras==2.1.5) (6.0)\n",
            "Installing collected packages: keras\n",
            "  Attempting uninstall: keras\n",
            "    Found existing installation: keras 2.11.0\n",
            "    Uninstalling keras-2.11.0:\n",
            "      Successfully uninstalled keras-2.11.0\n",
            "\u001b[31mERROR: pip's dependency resolver does not currently take into account all the packages that are installed. This behaviour is the source of the following dependency conflicts.\n",
            "tensorflow-macos 2.11.0 requires keras<2.12,>=2.11.0, but you have keras 2.1.5 which is incompatible.\u001b[0m\u001b[31m\n",
            "\u001b[0mSuccessfully installed keras-2.1.5\n"
          ]
        }
      ],
      "source": [
        "!pip install keras_applications\n",
        "!pip install keras==2.1.5"
      ]
    },
    {
      "cell_type": "code",
      "execution_count": 77,
      "metadata": {
        "colab": {
          "base_uri": "https://localhost:8080/"
        },
        "id": "tE0EXzx4el1m",
        "outputId": "29d0b825-4440-4658-db6a-af0bc1e3b2d7"
      },
      "outputs": [
        {
          "name": "stdout",
          "output_type": "stream",
          "text": [
            "Collecting git+https://github.com/rcmalli/keras-vggface.git\n",
            "  Cloning https://github.com/rcmalli/keras-vggface.git to /private/var/folders/7m/m8d42_wx6_s2mq4bkrbnj5_h0000gn/T/pip-req-build-n61wc1sm\n",
            "  Running command git clone --quiet https://github.com/rcmalli/keras-vggface.git /private/var/folders/7m/m8d42_wx6_s2mq4bkrbnj5_h0000gn/T/pip-req-build-n61wc1sm\n",
            "  Resolved https://github.com/rcmalli/keras-vggface.git to commit 719ad75625fe51436b9a9479114b3d136847e11a\n",
            "  Preparing metadata (setup.py) ... \u001b[?25ldone\n",
            "\u001b[?25hRequirement already satisfied: numpy>=1.9.1 in /Users/ds_learner16/miniconda3/lib/python3.10/site-packages (from keras-vggface==0.6) (1.23.5)\n",
            "Requirement already satisfied: scipy>=0.14 in /Users/ds_learner16/miniconda3/lib/python3.10/site-packages (from keras-vggface==0.6) (1.10.1)\n",
            "Requirement already satisfied: h5py in /Users/ds_learner16/miniconda3/lib/python3.10/site-packages (from keras-vggface==0.6) (3.8.0)\n",
            "Requirement already satisfied: pillow in /Users/ds_learner16/miniconda3/lib/python3.10/site-packages (from keras-vggface==0.6) (9.4.0)\n",
            "Requirement already satisfied: keras in /Users/ds_learner16/miniconda3/lib/python3.10/site-packages (from keras-vggface==0.6) (2.1.5)\n",
            "Requirement already satisfied: six>=1.9.0 in /Users/ds_learner16/miniconda3/lib/python3.10/site-packages (from keras-vggface==0.6) (1.16.0)\n",
            "Requirement already satisfied: pyyaml in /Users/ds_learner16/miniconda3/lib/python3.10/site-packages (from keras-vggface==0.6) (6.0)\n"
          ]
        }
      ],
      "source": [
        "! pip install git+https://github.com/rcmalli/keras-vggface.git"
      ]
    },
    {
      "cell_type": "code",
      "execution_count": 78,
      "metadata": {
        "colab": {
          "base_uri": "https://localhost:8080/"
        },
        "id": "sctM7AvaeoR-",
        "outputId": "477b6c44-e8dc-4b88-f2ae-555b5249b47e"
      },
      "outputs": [
        {
          "name": "stdout",
          "output_type": "stream",
          "text": [
            "Name: keras-vggface\n",
            "Version: 0.6\n",
            "Summary: VGGFace implementation with Keras framework\n",
            "Home-page: https://github.com/rcmalli/keras-vggface\n",
            "Author: Refik Can MALLI\n",
            "Author-email: mallir@itu.edu.tr\n",
            "License: MIT\n",
            "Location: /Users/ds_learner16/miniconda3/lib/python3.10/site-packages\n",
            "Requires: h5py, keras, numpy, pillow, pyyaml, scipy, six\n",
            "Required-by: \n"
          ]
        }
      ],
      "source": [
        "!pip show keras-vggface"
      ]
    },
    {
      "cell_type": "code",
      "execution_count": 79,
      "metadata": {
        "colab": {
          "base_uri": "https://localhost:8080/"
        },
        "id": "5uWIDzO5eXFV",
        "outputId": "4f06b11e-127a-4e1c-bf86-4091ed3b41dd"
      },
      "outputs": [
        {
          "name": "stdout",
          "output_type": "stream",
          "text": [
            "Model: \"vggface_vgg16\"\n",
            "_________________________________________________________________\n",
            " Layer (type)                Output Shape              Param #   \n",
            "=================================================================\n",
            " input_5 (InputLayer)        [(None, 224, 224, 3)]     0         \n",
            "                                                                 \n",
            " conv1_1 (Conv2D)            (None, 224, 224, 64)      1792      \n",
            "                                                                 \n",
            " conv1_2 (Conv2D)            (None, 224, 224, 64)      36928     \n",
            "                                                                 \n",
            " pool1 (MaxPooling2D)        (None, 112, 112, 64)      0         \n",
            "                                                                 \n",
            " conv2_1 (Conv2D)            (None, 112, 112, 128)     73856     \n",
            "                                                                 \n",
            " conv2_2 (Conv2D)            (None, 112, 112, 128)     147584    \n",
            "                                                                 \n",
            " pool2 (MaxPooling2D)        (None, 56, 56, 128)       0         \n",
            "                                                                 \n",
            " conv3_1 (Conv2D)            (None, 56, 56, 256)       295168    \n",
            "                                                                 \n",
            " conv3_2 (Conv2D)            (None, 56, 56, 256)       590080    \n",
            "                                                                 \n",
            " conv3_3 (Conv2D)            (None, 56, 56, 256)       590080    \n",
            "                                                                 \n",
            " pool3 (MaxPooling2D)        (None, 28, 28, 256)       0         \n",
            "                                                                 \n",
            " conv4_1 (Conv2D)            (None, 28, 28, 512)       1180160   \n",
            "                                                                 \n",
            " conv4_2 (Conv2D)            (None, 28, 28, 512)       2359808   \n",
            "                                                                 \n",
            " conv4_3 (Conv2D)            (None, 28, 28, 512)       2359808   \n",
            "                                                                 \n",
            " pool4 (MaxPooling2D)        (None, 14, 14, 512)       0         \n",
            "                                                                 \n",
            " conv5_1 (Conv2D)            (None, 14, 14, 512)       2359808   \n",
            "                                                                 \n",
            " conv5_2 (Conv2D)            (None, 14, 14, 512)       2359808   \n",
            "                                                                 \n",
            " conv5_3 (Conv2D)            (None, 14, 14, 512)       2359808   \n",
            "                                                                 \n",
            " pool5 (MaxPooling2D)        (None, 7, 7, 512)         0         \n",
            "                                                                 \n",
            " flatten (Flatten)           (None, 25088)             0         \n",
            "                                                                 \n",
            " fc6 (Dense)                 (None, 4096)              102764544 \n",
            "                                                                 \n",
            " fc6/relu (Activation)       (None, 4096)              0         \n",
            "                                                                 \n",
            " fc7 (Dense)                 (None, 4096)              16781312  \n",
            "                                                                 \n",
            " fc7/relu (Activation)       (None, 4096)              0         \n",
            "                                                                 \n",
            " fc8 (Dense)                 (None, 2622)              10742334  \n",
            "                                                                 \n",
            " fc8/softmax (Activation)    (None, 2622)              0         \n",
            "                                                                 \n",
            "=================================================================\n",
            "Total params: 145,002,878\n",
            "Trainable params: 145,002,878\n",
            "Non-trainable params: 0\n",
            "_________________________________________________________________\n",
            "26\n"
          ]
        }
      ],
      "source": [
        "from keras_vggface.vggface import VGGFace\n",
        "\n",
        "base_model = VGGFace(include_top=True,\n",
        "    model='vgg16',\n",
        "    input_shape=(224, 224, 3))\n",
        "base_model.summary()\n",
        "\n",
        "print(len(base_model.layers))"
      ]
    },
    {
      "cell_type": "code",
      "execution_count": 80,
      "metadata": {
        "colab": {
          "base_uri": "https://localhost:8080/"
        },
        "id": "EAw0VgYJfIrR",
        "outputId": "17f4bc54-b635-492f-daed-f4b5da641c72"
      },
      "outputs": [
        {
          "name": "stdout",
          "output_type": "stream",
          "text": [
            "Model: \"vggface_vgg16\"\n",
            "_________________________________________________________________\n",
            " Layer (type)                Output Shape              Param #   \n",
            "=================================================================\n",
            " input_6 (InputLayer)        [(None, 224, 224, 3)]     0         \n",
            "                                                                 \n",
            " conv1_1 (Conv2D)            (None, 224, 224, 64)      1792      \n",
            "                                                                 \n",
            " conv1_2 (Conv2D)            (None, 224, 224, 64)      36928     \n",
            "                                                                 \n",
            " pool1 (MaxPooling2D)        (None, 112, 112, 64)      0         \n",
            "                                                                 \n",
            " conv2_1 (Conv2D)            (None, 112, 112, 128)     73856     \n",
            "                                                                 \n",
            " conv2_2 (Conv2D)            (None, 112, 112, 128)     147584    \n",
            "                                                                 \n",
            " pool2 (MaxPooling2D)        (None, 56, 56, 128)       0         \n",
            "                                                                 \n",
            " conv3_1 (Conv2D)            (None, 56, 56, 256)       295168    \n",
            "                                                                 \n",
            " conv3_2 (Conv2D)            (None, 56, 56, 256)       590080    \n",
            "                                                                 \n",
            " conv3_3 (Conv2D)            (None, 56, 56, 256)       590080    \n",
            "                                                                 \n",
            " pool3 (MaxPooling2D)        (None, 28, 28, 256)       0         \n",
            "                                                                 \n",
            " conv4_1 (Conv2D)            (None, 28, 28, 512)       1180160   \n",
            "                                                                 \n",
            " conv4_2 (Conv2D)            (None, 28, 28, 512)       2359808   \n",
            "                                                                 \n",
            " conv4_3 (Conv2D)            (None, 28, 28, 512)       2359808   \n",
            "                                                                 \n",
            " pool4 (MaxPooling2D)        (None, 14, 14, 512)       0         \n",
            "                                                                 \n",
            " conv5_1 (Conv2D)            (None, 14, 14, 512)       2359808   \n",
            "                                                                 \n",
            " conv5_2 (Conv2D)            (None, 14, 14, 512)       2359808   \n",
            "                                                                 \n",
            " conv5_3 (Conv2D)            (None, 14, 14, 512)       2359808   \n",
            "                                                                 \n",
            " pool5 (MaxPooling2D)        (None, 7, 7, 512)         0         \n",
            "                                                                 \n",
            "=================================================================\n",
            "Total params: 14,714,688\n",
            "Trainable params: 14,714,688\n",
            "Non-trainable params: 0\n",
            "_________________________________________________________________\n",
            "19\n"
          ]
        }
      ],
      "source": [
        "base_model = VGGFace(include_top=False,\n",
        "model='vgg16',\n",
        "input_shape=(224, 224, 3))\n",
        "base_model.summary()\n",
        "print(len(base_model.layers))\n",
        "# 19 layers after excluding the last few layers"
      ]
    },
    {
      "cell_type": "code",
      "execution_count": 81,
      "metadata": {
        "id": "7iopfqCfebZ6"
      },
      "outputs": [],
      "source": [
        "x = base_model.output\n",
        "x = GlobalAveragePooling2D()(x)\n",
        "\n",
        "x = Dense(1024, activation='relu')(x)\n",
        "x = Dense(1024, activation='relu')(x)\n",
        "x = Dense(512, activation='relu')(x)\n",
        "\n",
        "# final layer with softmax activation\n",
        "preds = Dense(CLASSES, activation='softmax')(x)"
      ]
    },
    {
      "cell_type": "code",
      "execution_count": 82,
      "metadata": {
        "colab": {
          "base_uri": "https://localhost:8080/"
        },
        "id": "Y117ifG0fAbK",
        "outputId": "77c111d2-58b6-4a05-d23b-c05d2a6d93ca"
      },
      "outputs": [
        {
          "name": "stdout",
          "output_type": "stream",
          "text": [
            "Model: \"model_2\"\n",
            "_________________________________________________________________\n",
            " Layer (type)                Output Shape              Param #   \n",
            "=================================================================\n",
            " input_6 (InputLayer)        [(None, 224, 224, 3)]     0         \n",
            "                                                                 \n",
            " conv1_1 (Conv2D)            (None, 224, 224, 64)      1792      \n",
            "                                                                 \n",
            " conv1_2 (Conv2D)            (None, 224, 224, 64)      36928     \n",
            "                                                                 \n",
            " pool1 (MaxPooling2D)        (None, 112, 112, 64)      0         \n",
            "                                                                 \n",
            " conv2_1 (Conv2D)            (None, 112, 112, 128)     73856     \n",
            "                                                                 \n",
            " conv2_2 (Conv2D)            (None, 112, 112, 128)     147584    \n",
            "                                                                 \n",
            " pool2 (MaxPooling2D)        (None, 56, 56, 128)       0         \n",
            "                                                                 \n",
            " conv3_1 (Conv2D)            (None, 56, 56, 256)       295168    \n",
            "                                                                 \n",
            " conv3_2 (Conv2D)            (None, 56, 56, 256)       590080    \n",
            "                                                                 \n",
            " conv3_3 (Conv2D)            (None, 56, 56, 256)       590080    \n",
            "                                                                 \n",
            " pool3 (MaxPooling2D)        (None, 28, 28, 256)       0         \n",
            "                                                                 \n",
            " conv4_1 (Conv2D)            (None, 28, 28, 512)       1180160   \n",
            "                                                                 \n",
            " conv4_2 (Conv2D)            (None, 28, 28, 512)       2359808   \n",
            "                                                                 \n",
            " conv4_3 (Conv2D)            (None, 28, 28, 512)       2359808   \n",
            "                                                                 \n",
            " pool4 (MaxPooling2D)        (None, 14, 14, 512)       0         \n",
            "                                                                 \n",
            " conv5_1 (Conv2D)            (None, 14, 14, 512)       2359808   \n",
            "                                                                 \n",
            " conv5_2 (Conv2D)            (None, 14, 14, 512)       2359808   \n",
            "                                                                 \n",
            " conv5_3 (Conv2D)            (None, 14, 14, 512)       2359808   \n",
            "                                                                 \n",
            " pool5 (MaxPooling2D)        (None, 7, 7, 512)         0         \n",
            "                                                                 \n",
            " global_average_pooling2d_2   (None, 512)              0         \n",
            " (GlobalAveragePooling2D)                                        \n",
            "                                                                 \n",
            " dense_8 (Dense)             (None, 1024)              525312    \n",
            "                                                                 \n",
            " dense_9 (Dense)             (None, 1024)              1049600   \n",
            "                                                                 \n",
            " dense_10 (Dense)            (None, 512)               524800    \n",
            "                                                                 \n",
            " dense_11 (Dense)            (None, 12)                6156      \n",
            "                                                                 \n",
            "=================================================================\n",
            "Total params: 16,820,556\n",
            "Trainable params: 16,820,556\n",
            "Non-trainable params: 0\n",
            "_________________________________________________________________\n"
          ]
        }
      ],
      "source": [
        "# create a new model with the base model's original input and the \n",
        "# new model's output\n",
        "model = Model(inputs = base_model.input, outputs = preds)\n",
        "model.summary()\n",
        "\n",
        "# don't train the first 19 layers - 0..18\n",
        "for layer in model.layers[:19]:\n",
        "    layer.trainable = False\n",
        "\n",
        "# train the rest of the layers - 19 onwards\n",
        "for layer in model.layers[19:]:\n",
        "    layer.trainable = True"
      ]
    },
    {
      "cell_type": "code",
      "execution_count": 83,
      "metadata": {
        "id": "-jtVZ1YHfQcY"
      },
      "outputs": [],
      "source": [
        "model.compile(optimizer='Adam',\n",
        "    loss='categorical_crossentropy',\n",
        "    metrics=['accuracy'])"
      ]
    },
    {
      "cell_type": "code",
      "execution_count": 84,
      "metadata": {},
      "outputs": [
        {
          "name": "stdout",
          "output_type": "stream",
          "text": [
            "Requirement already satisfied: tensorflow-estimator==2.11.0 in /Users/ds_learner16/miniconda3/lib/python3.10/site-packages (2.11.0)\n",
            "Requirement already satisfied: tensorflow-macos==2.11.0 in /Users/ds_learner16/miniconda3/lib/python3.10/site-packages (2.11.0)\n",
            "Requirement already satisfied: tensorflow-metal==0.7.0 in /Users/ds_learner16/miniconda3/lib/python3.10/site-packages (0.7.0)\n",
            "Requirement already satisfied: wrapt>=1.11.0 in /Users/ds_learner16/miniconda3/lib/python3.10/site-packages (from tensorflow-macos==2.11.0) (1.14.1)\n",
            "Requirement already satisfied: absl-py>=1.0.0 in /Users/ds_learner16/miniconda3/lib/python3.10/site-packages (from tensorflow-macos==2.11.0) (1.4.0)\n",
            "Requirement already satisfied: packaging in /Users/ds_learner16/.local/lib/python3.10/site-packages (from tensorflow-macos==2.11.0) (23.0)\n",
            "Requirement already satisfied: termcolor>=1.1.0 in /Users/ds_learner16/miniconda3/lib/python3.10/site-packages (from tensorflow-macos==2.11.0) (2.2.0)\n",
            "Requirement already satisfied: astunparse>=1.6.0 in /Users/ds_learner16/miniconda3/lib/python3.10/site-packages (from tensorflow-macos==2.11.0) (1.6.3)\n",
            "Requirement already satisfied: gast<=0.4.0,>=0.2.1 in /Users/ds_learner16/miniconda3/lib/python3.10/site-packages (from tensorflow-macos==2.11.0) (0.4.0)\n",
            "Requirement already satisfied: numpy>=1.20 in /Users/ds_learner16/miniconda3/lib/python3.10/site-packages (from tensorflow-macos==2.11.0) (1.23.5)\n",
            "Requirement already satisfied: flatbuffers>=2.0 in /Users/ds_learner16/miniconda3/lib/python3.10/site-packages (from tensorflow-macos==2.11.0) (23.3.3)\n",
            "Requirement already satisfied: h5py>=2.9.0 in /Users/ds_learner16/miniconda3/lib/python3.10/site-packages (from tensorflow-macos==2.11.0) (3.8.0)\n",
            "Requirement already satisfied: six>=1.12.0 in /Users/ds_learner16/miniconda3/lib/python3.10/site-packages (from tensorflow-macos==2.11.0) (1.16.0)\n",
            "Requirement already satisfied: tensorboard<2.12,>=2.11 in /Users/ds_learner16/miniconda3/lib/python3.10/site-packages (from tensorflow-macos==2.11.0) (2.11.2)\n",
            "Requirement already satisfied: protobuf<3.20,>=3.9.2 in /Users/ds_learner16/miniconda3/lib/python3.10/site-packages (from tensorflow-macos==2.11.0) (3.19.6)\n",
            "Requirement already satisfied: google-pasta>=0.1.1 in /Users/ds_learner16/miniconda3/lib/python3.10/site-packages (from tensorflow-macos==2.11.0) (0.2.0)\n",
            "Requirement already satisfied: typing-extensions>=3.6.6 in /Users/ds_learner16/miniconda3/lib/python3.10/site-packages (from tensorflow-macos==2.11.0) (4.5.0)\n",
            "Collecting keras<2.12,>=2.11.0\n",
            "  Using cached keras-2.11.0-py2.py3-none-any.whl (1.7 MB)\n",
            "Requirement already satisfied: setuptools in /Users/ds_learner16/miniconda3/lib/python3.10/site-packages (from tensorflow-macos==2.11.0) (65.6.3)\n",
            "Requirement already satisfied: libclang>=13.0.0 in /Users/ds_learner16/miniconda3/lib/python3.10/site-packages (from tensorflow-macos==2.11.0) (15.0.6.1)\n",
            "Requirement already satisfied: opt-einsum>=2.3.2 in /Users/ds_learner16/miniconda3/lib/python3.10/site-packages (from tensorflow-macos==2.11.0) (3.3.0)\n",
            "Requirement already satisfied: grpcio<2.0,>=1.24.3 in /Users/ds_learner16/miniconda3/lib/python3.10/site-packages (from tensorflow-macos==2.11.0) (1.51.3)\n",
            "Requirement already satisfied: wheel~=0.35 in /Users/ds_learner16/miniconda3/lib/python3.10/site-packages (from tensorflow-metal==0.7.0) (0.37.1)\n",
            "Requirement already satisfied: tensorboard-plugin-wit>=1.6.0 in /Users/ds_learner16/miniconda3/lib/python3.10/site-packages (from tensorboard<2.12,>=2.11->tensorflow-macos==2.11.0) (1.8.1)\n",
            "Requirement already satisfied: google-auth-oauthlib<0.5,>=0.4.1 in /Users/ds_learner16/miniconda3/lib/python3.10/site-packages (from tensorboard<2.12,>=2.11->tensorflow-macos==2.11.0) (0.4.6)\n",
            "Requirement already satisfied: google-auth<3,>=1.6.3 in /Users/ds_learner16/miniconda3/lib/python3.10/site-packages (from tensorboard<2.12,>=2.11->tensorflow-macos==2.11.0) (2.16.2)\n",
            "Requirement already satisfied: werkzeug>=1.0.1 in /Users/ds_learner16/miniconda3/lib/python3.10/site-packages (from tensorboard<2.12,>=2.11->tensorflow-macos==2.11.0) (2.2.3)\n",
            "Requirement already satisfied: markdown>=2.6.8 in /Users/ds_learner16/miniconda3/lib/python3.10/site-packages (from tensorboard<2.12,>=2.11->tensorflow-macos==2.11.0) (3.4.1)\n",
            "Requirement already satisfied: tensorboard-data-server<0.7.0,>=0.6.0 in /Users/ds_learner16/miniconda3/lib/python3.10/site-packages (from tensorboard<2.12,>=2.11->tensorflow-macos==2.11.0) (0.6.1)\n",
            "Requirement already satisfied: requests<3,>=2.21.0 in /Users/ds_learner16/miniconda3/lib/python3.10/site-packages (from tensorboard<2.12,>=2.11->tensorflow-macos==2.11.0) (2.28.1)\n",
            "Requirement already satisfied: rsa<5,>=3.1.4 in /Users/ds_learner16/miniconda3/lib/python3.10/site-packages (from google-auth<3,>=1.6.3->tensorboard<2.12,>=2.11->tensorflow-macos==2.11.0) (4.9)\n",
            "Requirement already satisfied: pyasn1-modules>=0.2.1 in /Users/ds_learner16/miniconda3/lib/python3.10/site-packages (from google-auth<3,>=1.6.3->tensorboard<2.12,>=2.11->tensorflow-macos==2.11.0) (0.2.8)\n",
            "Requirement already satisfied: cachetools<6.0,>=2.0.0 in /Users/ds_learner16/miniconda3/lib/python3.10/site-packages (from google-auth<3,>=1.6.3->tensorboard<2.12,>=2.11->tensorflow-macos==2.11.0) (5.3.0)\n",
            "Requirement already satisfied: requests-oauthlib>=0.7.0 in /Users/ds_learner16/miniconda3/lib/python3.10/site-packages (from google-auth-oauthlib<0.5,>=0.4.1->tensorboard<2.12,>=2.11->tensorflow-macos==2.11.0) (1.3.1)\n",
            "Requirement already satisfied: certifi>=2017.4.17 in /Users/ds_learner16/miniconda3/lib/python3.10/site-packages (from requests<3,>=2.21.0->tensorboard<2.12,>=2.11->tensorflow-macos==2.11.0) (2022.12.7)\n",
            "Requirement already satisfied: urllib3<1.27,>=1.21.1 in /Users/ds_learner16/miniconda3/lib/python3.10/site-packages (from requests<3,>=2.21.0->tensorboard<2.12,>=2.11->tensorflow-macos==2.11.0) (1.26.14)\n",
            "Requirement already satisfied: idna<4,>=2.5 in /Users/ds_learner16/miniconda3/lib/python3.10/site-packages (from requests<3,>=2.21.0->tensorboard<2.12,>=2.11->tensorflow-macos==2.11.0) (3.4)\n",
            "Requirement already satisfied: charset-normalizer<3,>=2 in /Users/ds_learner16/miniconda3/lib/python3.10/site-packages (from requests<3,>=2.21.0->tensorboard<2.12,>=2.11->tensorflow-macos==2.11.0) (2.0.4)\n",
            "Requirement already satisfied: MarkupSafe>=2.1.1 in /Users/ds_learner16/miniconda3/lib/python3.10/site-packages (from werkzeug>=1.0.1->tensorboard<2.12,>=2.11->tensorflow-macos==2.11.0) (2.1.2)\n",
            "Requirement already satisfied: pyasn1<0.5.0,>=0.4.6 in /Users/ds_learner16/miniconda3/lib/python3.10/site-packages (from pyasn1-modules>=0.2.1->google-auth<3,>=1.6.3->tensorboard<2.12,>=2.11->tensorflow-macos==2.11.0) (0.4.8)\n",
            "Requirement already satisfied: oauthlib>=3.0.0 in /Users/ds_learner16/miniconda3/lib/python3.10/site-packages (from requests-oauthlib>=0.7.0->google-auth-oauthlib<0.5,>=0.4.1->tensorboard<2.12,>=2.11->tensorflow-macos==2.11.0) (3.2.2)\n",
            "Installing collected packages: keras\n",
            "  Attempting uninstall: keras\n",
            "    Found existing installation: Keras 2.1.5\n",
            "    Uninstalling Keras-2.1.5:\n",
            "      Successfully uninstalled Keras-2.1.5\n",
            "Successfully installed keras-2.11.0\n"
          ]
        }
      ],
      "source": [
        "! pip install  tensorflow-estimator==2.11.0 tensorflow-macos==2.11.0 tensorflow-metal==0.7.0 "
      ]
    },
    {
      "cell_type": "code",
      "execution_count": 85,
      "metadata": {
        "colab": {
          "base_uri": "https://localhost:8080/"
        },
        "id": "Jhc0R0mBfbCB",
        "outputId": "23f335d8-ca8a-4f01-a841-1e373ae14a4d"
      },
      "outputs": [
        {
          "name": "stdout",
          "output_type": "stream",
          "text": [
            "Epoch 1/5\n",
            "WARNING:tensorflow:AutoGraph could not transform <function Model.make_train_function.<locals>.train_function at 0x294770b80> and will run it as-is.\n",
            "Please report this to the TensorFlow team. When filing the bug, set the verbosity to 10 (on Linux, `export AUTOGRAPH_VERBOSITY=10`) and attach the full output.\n",
            "Cause: closure mismatch, requested ('self', 'step_function'), but source function had ()\n",
            "To silence this warning, decorate the function with @tf.autograph.experimental.do_not_convert\n",
            "WARNING: AutoGraph could not transform <function Model.make_train_function.<locals>.train_function at 0x294770b80> and will run it as-is.\n",
            "Please report this to the TensorFlow team. When filing the bug, set the verbosity to 10 (on Linux, `export AUTOGRAPH_VERBOSITY=10`) and attach the full output.\n",
            "Cause: closure mismatch, requested ('self', 'step_function'), but source function had ()\n",
            "To silence this warning, decorate the function with @tf.autograph.experimental.do_not_convert\n",
            "11/11 [==============================] - ETA: 0s - loss: 1.9161 - accuracy: 0.5908WARNING:tensorflow:AutoGraph could not transform <function Model.make_test_function.<locals>.test_function at 0x2e85f8940> and will run it as-is.\n",
            "Please report this to the TensorFlow team. When filing the bug, set the verbosity to 10 (on Linux, `export AUTOGRAPH_VERBOSITY=10`) and attach the full output.\n",
            "Cause: closure mismatch, requested ('self', 'step_function'), but source function had ()\n",
            "To silence this warning, decorate the function with @tf.autograph.experimental.do_not_convert\n",
            "WARNING: AutoGraph could not transform <function Model.make_test_function.<locals>.test_function at 0x2e85f8940> and will run it as-is.\n",
            "Please report this to the TensorFlow team. When filing the bug, set the verbosity to 10 (on Linux, `export AUTOGRAPH_VERBOSITY=10`) and attach the full output.\n",
            "Cause: closure mismatch, requested ('self', 'step_function'), but source function had ()\n",
            "To silence this warning, decorate the function with @tf.autograph.experimental.do_not_convert\n",
            "11/11 [==============================] - 15s 1s/step - loss: 1.9161 - accuracy: 0.5908 - val_loss: 1.0954 - val_accuracy: 0.9151\n",
            "Epoch 2/5\n",
            "11/11 [==============================] - 14s 1s/step - loss: 0.4135 - accuracy: 0.9424 - val_loss: 0.1974 - val_accuracy: 0.9836\n",
            "Epoch 3/5\n",
            "11/11 [==============================] - 13s 1s/step - loss: 0.0654 - accuracy: 0.9914 - val_loss: 0.0385 - val_accuracy: 0.9973\n",
            "Epoch 4/5\n",
            "11/11 [==============================] - 13s 1s/step - loss: 0.0106 - accuracy: 1.0000 - val_loss: 0.0192 - val_accuracy: 0.9973\n",
            "Epoch 5/5\n",
            "11/11 [==============================] - 13s 1s/step - loss: 0.0047 - accuracy: 1.0000 - val_loss: 0.0141 - val_accuracy: 0.9973\n"
          ]
        },
        {
          "data": {
            "text/plain": [
              "<keras.callbacks.History at 0x2b812fa00>"
            ]
          },
          "execution_count": 85,
          "metadata": {},
          "output_type": "execute_result"
        }
      ],
      "source": [
        "model.fit(train_generator,\n",
        "  batch_size = 32,\n",
        "  steps_per_epoch=len(train_generator),\n",
        "  validation_data=test_generator,\n",
        "  validation_steps=len(test_generator),\n",
        "  verbose = 1,\n",
        "  epochs = 5)"
      ]
    },
    {
      "cell_type": "code",
      "execution_count": 86,
      "metadata": {},
      "outputs": [
        {
          "name": "stdout",
          "output_type": "stream",
          "text": [
            "Found 365 images belonging to 12 classes.\n"
          ]
        }
      ],
      "source": [
        "test_generator = \\\n",
        "    train_datagen.flow_from_directory(\n",
        "'photos/val/',\n",
        "target_size=(224,224),\n",
        "color_mode='rgb',\n",
        "batch_size=32,\n",
        "class_mode='categorical',\n",
        "shuffle=True)"
      ]
    },
    {
      "cell_type": "code",
      "execution_count": 87,
      "metadata": {
        "colab": {
          "base_uri": "https://localhost:8080/"
        },
        "id": "YMh25Bj78eZf",
        "outputId": "853648ce-166d-4d2a-fe33-14f25defb236"
      },
      "outputs": [
        {
          "name": "stdout",
          "output_type": "stream",
          "text": [
            "12/12 [==============================] - 7s 590ms/step - loss: 0.0141 - accuracy: 0.9973\n"
          ]
        },
        {
          "data": {
            "text/plain": [
              "[0.01408441923558712, 0.9972602725028992]"
            ]
          },
          "execution_count": 87,
          "metadata": {},
          "output_type": "execute_result"
        }
      ],
      "source": [
        "model.evaluate(test_generator)"
      ]
    },
    {
      "cell_type": "code",
      "execution_count": 18,
      "metadata": {
        "id": "AquL6gushCZH"
      },
      "outputs": [],
      "source": [
        "# creates a HDF5 file\n",
        "model.save(\n",
        "    'transfer_learning_trained' +\n",
        "    '13_classes_face_cnn_model_data_science.h5')"
      ]
    },
    {
      "cell_type": "code",
      "execution_count": null,
      "metadata": {},
      "outputs": [],
      "source": [
        "model.predict()"
      ]
    }
  ],
  "metadata": {
    "accelerator": "GPU",
    "colab": {
      "provenance": []
    },
    "gpuClass": "standard",
    "kernelspec": {
      "display_name": "Python 3",
      "name": "python3"
    },
    "language_info": {
      "codemirror_mode": {
        "name": "ipython",
        "version": 3
      },
      "file_extension": ".py",
      "mimetype": "text/x-python",
      "name": "python",
      "nbconvert_exporter": "python",
      "pygments_lexer": "ipython3",
      "version": "3.10.9"
    }
  },
  "nbformat": 4,
  "nbformat_minor": 0
}
