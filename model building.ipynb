{
  "cells": [
    {
      "cell_type": "code",
      "execution_count": 3,
      "metadata": {
        "colab": {
          "base_uri": "https://localhost:8080/"
        },
        "id": "PCq5Fk1X2_fO",
        "outputId": "65e4300b-feb9-4c64-be33-f760960bdc75"
      },
      "outputs": [
        {
          "name": "stdout",
          "output_type": "stream",
          "text": [
            "Requirement already satisfied: opendatasets in /Users/ds_learner16/opt/anaconda3/lib/python3.9/site-packages (0.1.22)\n",
            "Requirement already satisfied: kaggle in /Users/ds_learner16/opt/anaconda3/lib/python3.9/site-packages (from opendatasets) (1.5.12)\n",
            "Requirement already satisfied: click in /Users/ds_learner16/opt/anaconda3/lib/python3.9/site-packages (from opendatasets) (8.0.4)\n",
            "Requirement already satisfied: tqdm in /Users/ds_learner16/opt/anaconda3/lib/python3.9/site-packages (from opendatasets) (4.64.1)\n",
            "Requirement already satisfied: certifi in /Users/ds_learner16/opt/anaconda3/lib/python3.9/site-packages (from kaggle->opendatasets) (2022.9.24)\n",
            "Requirement already satisfied: six>=1.10 in /Users/ds_learner16/opt/anaconda3/lib/python3.9/site-packages (from kaggle->opendatasets) (1.16.0)\n",
            "Requirement already satisfied: urllib3 in /Users/ds_learner16/opt/anaconda3/lib/python3.9/site-packages (from kaggle->opendatasets) (1.26.11)\n",
            "Requirement already satisfied: python-slugify in /Users/ds_learner16/opt/anaconda3/lib/python3.9/site-packages (from kaggle->opendatasets) (5.0.2)\n",
            "Requirement already satisfied: requests in /Users/ds_learner16/opt/anaconda3/lib/python3.9/site-packages (from kaggle->opendatasets) (2.28.1)\n",
            "Requirement already satisfied: python-dateutil in /Users/ds_learner16/opt/anaconda3/lib/python3.9/site-packages (from kaggle->opendatasets) (2.8.2)\n",
            "Requirement already satisfied: text-unidecode>=1.3 in /Users/ds_learner16/opt/anaconda3/lib/python3.9/site-packages (from python-slugify->kaggle->opendatasets) (1.3)\n",
            "Requirement already satisfied: idna<4,>=2.5 in /Users/ds_learner16/opt/anaconda3/lib/python3.9/site-packages (from requests->kaggle->opendatasets) (3.3)\n",
            "Requirement already satisfied: charset-normalizer<3,>=2 in /Users/ds_learner16/opt/anaconda3/lib/python3.9/site-packages (from requests->kaggle->opendatasets) (2.0.4)\n",
            "Please provide your Kaggle credentials to download this dataset. Learn more: http://bit.ly/kaggle-creds\n",
            "Your Kaggle username:Your Kaggle Key:Downloading avengers-faces-dataset.zip to ./avengers-faces-dataset\n"
          ]
        },
        {
          "name": "stderr",
          "output_type": "stream",
          "text": [
            "100%|██████████| 89.6M/89.6M [00:27<00:00, 3.41MB/s]\n"
          ]
        },
        {
          "name": "stdout",
          "output_type": "stream",
          "text": [
            "\n"
          ]
        }
      ],
      "source": [
        "! pip install opendatasets\n",
        "import opendatasets as od\n",
        "od.download(\"https://www.kaggle.com/datasets/yasserh/avengers-faces-dataset/download?datasetVersionNumber=1\")"
      ]
    },
    {
      "cell_type": "code",
      "execution_count": null,
      "metadata": {
        "id": "a-6m1eCldsLp"
      },
      "outputs": [],
      "source": [
        "import os\n",
        "import pandas as pd\n",
        "import numpy as np\n",
        "import tensorflow.keras as keras\n",
        "import matplotlib.pyplot as plt\n",
        "\n",
        "from tensorflow.keras.layers import Dense, GlobalAveragePooling2D\n",
        "\n",
        "from tensorflow.keras.preprocessing import image\n",
        "from tensorflow.keras.applications.mobilenet import preprocess_input\n",
        "\n",
        "from tensorflow.keras.preprocessing.image import ImageDataGenerator\n",
        "\n",
        "from tensorflow.keras.models import Model\n",
        "\n",
        "from tensorflow.keras.optimizers import Adam\n"
      ]
    },
    {
      "cell_type": "code",
      "execution_count": null,
      "metadata": {
        "colab": {
          "base_uri": "https://localhost:8080/"
        },
        "id": "mrnA1-f3d2qL",
        "outputId": "a35d3e23-c891-4e76-f20c-909b82ebaf39"
      },
      "outputs": [
        {
          "name": "stdout",
          "output_type": "stream",
          "text": [
            "Found 274 images belonging to 5 classes.\n",
            "Found 60 images belonging to 5 classes.\n"
          ]
        }
      ],
      "source": [
        "train_datagen = ImageDataGenerator(\n",
        "    preprocessing_function=preprocess_input)\n",
        "\n",
        "train_generator = \\\n",
        "    train_datagen.flow_from_directory(\n",
        "'avengers-faces-dataset/images/train',\n",
        "target_size=(224,224),\n",
        "color_mode='rgb',\n",
        "batch_size=32,\n",
        "class_mode='categorical',\n",
        "shuffle=True)\n",
        "\n",
        "test_generator = \\\n",
        "    train_datagen.flow_from_directory(\n",
        "'avengers-faces-dataset/images/test',\n",
        "target_size=(224,224),\n",
        "color_mode='rgb',\n",
        "batch_size=32,\n",
        "class_mode='categorical',\n",
        "shuffle=True)\n",
        "    "
      ]
    },
    {
      "cell_type": "code",
      "execution_count": null,
      "metadata": {
        "id": "OXlU8cXteKhz"
      },
      "outputs": [],
      "source": [
        "train_generator.class_indices.values()\n",
        "CLASSES = len(train_generator.class_indices.values())"
      ]
    },
    {
      "cell_type": "code",
      "execution_count": null,
      "metadata": {
        "colab": {
          "base_uri": "https://localhost:8080/"
        },
        "id": "kR4aqCxjeU-B",
        "outputId": "5afab4fb-64ac-412f-a4dd-d8ea79d44192"
      },
      "outputs": [
        {
          "name": "stdout",
          "output_type": "stream",
          "text": [
            "Looking in indexes: https://pypi.org/simple, https://us-python.pkg.dev/colab-wheels/public/simple/\n",
            "Collecting keras_applications\n",
            "  Downloading Keras_Applications-1.0.8-py3-none-any.whl (50 kB)\n",
            "\u001b[2K     \u001b[90m━━━━━━━━━━━━━━━━━━━━━━━━━━━━━━━━━━━━━━━━\u001b[0m \u001b[32m50.7/50.7 KB\u001b[0m \u001b[31m6.0 MB/s\u001b[0m eta \u001b[36m0:00:00\u001b[0m\n",
            "\u001b[?25hRequirement already satisfied: numpy>=1.9.1 in /usr/local/lib/python3.9/dist-packages (from keras_applications) (1.22.4)\n",
            "Requirement already satisfied: h5py in /usr/local/lib/python3.9/dist-packages (from keras_applications) (3.8.0)\n",
            "Installing collected packages: keras_applications\n",
            "Successfully installed keras_applications-1.0.8\n",
            "Looking in indexes: https://pypi.org/simple, https://us-python.pkg.dev/colab-wheels/public/simple/\n",
            "Collecting keras==2.1.5\n",
            "  Downloading Keras-2.1.5-py2.py3-none-any.whl (334 kB)\n",
            "\u001b[2K     \u001b[90m━━━━━━━━━━━━━━━━━━━━━━━━━━━━━━━━━━━━━━\u001b[0m \u001b[32m334.9/334.9 KB\u001b[0m \u001b[31m16.5 MB/s\u001b[0m eta \u001b[36m0:00:00\u001b[0m\n",
            "\u001b[?25hRequirement already satisfied: scipy>=0.14 in /usr/local/lib/python3.9/dist-packages (from keras==2.1.5) (1.10.1)\n",
            "Requirement already satisfied: numpy>=1.9.1 in /usr/local/lib/python3.9/dist-packages (from keras==2.1.5) (1.22.4)\n",
            "Requirement already satisfied: pyyaml in /usr/local/lib/python3.9/dist-packages (from keras==2.1.5) (6.0)\n",
            "Requirement already satisfied: six>=1.9.0 in /usr/local/lib/python3.9/dist-packages (from keras==2.1.5) (1.16.0)\n",
            "Installing collected packages: keras\n",
            "  Attempting uninstall: keras\n",
            "    Found existing installation: keras 2.11.0\n",
            "    Uninstalling keras-2.11.0:\n",
            "      Successfully uninstalled keras-2.11.0\n",
            "\u001b[31mERROR: pip's dependency resolver does not currently take into account all the packages that are installed. This behaviour is the source of the following dependency conflicts.\n",
            "tensorflow 2.11.0 requires keras<2.12,>=2.11.0, but you have keras 2.1.5 which is incompatible.\u001b[0m\u001b[31m\n",
            "\u001b[0mSuccessfully installed keras-2.1.5\n"
          ]
        }
      ],
      "source": [
        "!pip install keras_applications\n",
        "!pip install keras==2.1.5"
      ]
    },
    {
      "cell_type": "code",
      "execution_count": null,
      "metadata": {
        "colab": {
          "base_uri": "https://localhost:8080/"
        },
        "id": "tE0EXzx4el1m",
        "outputId": "29d0b825-4440-4658-db6a-af0bc1e3b2d7"
      },
      "outputs": [
        {
          "name": "stdout",
          "output_type": "stream",
          "text": [
            "Looking in indexes: https://pypi.org/simple, https://us-python.pkg.dev/colab-wheels/public/simple/\n",
            "Collecting git+https://github.com/rcmalli/keras-vggface.git\n",
            "  Cloning https://github.com/rcmalli/keras-vggface.git to /tmp/pip-req-build-qcl85xeh\n",
            "  Running command git clone --filter=blob:none --quiet https://github.com/rcmalli/keras-vggface.git /tmp/pip-req-build-qcl85xeh\n",
            "  Resolved https://github.com/rcmalli/keras-vggface.git to commit 719ad75625fe51436b9a9479114b3d136847e11a\n",
            "  Preparing metadata (setup.py) ... \u001b[?25l\u001b[?25hdone\n",
            "Requirement already satisfied: numpy>=1.9.1 in /usr/local/lib/python3.9/dist-packages (from keras-vggface==0.6) (1.22.4)\n",
            "Requirement already satisfied: scipy>=0.14 in /usr/local/lib/python3.9/dist-packages (from keras-vggface==0.6) (1.10.1)\n",
            "Requirement already satisfied: h5py in /usr/local/lib/python3.9/dist-packages (from keras-vggface==0.6) (3.8.0)\n",
            "Requirement already satisfied: pillow in /usr/local/lib/python3.9/dist-packages (from keras-vggface==0.6) (8.4.0)\n",
            "Requirement already satisfied: keras in /usr/local/lib/python3.9/dist-packages (from keras-vggface==0.6) (2.1.5)\n",
            "Requirement already satisfied: six>=1.9.0 in /usr/local/lib/python3.9/dist-packages (from keras-vggface==0.6) (1.16.0)\n",
            "Requirement already satisfied: pyyaml in /usr/local/lib/python3.9/dist-packages (from keras-vggface==0.6) (6.0)\n",
            "Building wheels for collected packages: keras-vggface\n",
            "  Building wheel for keras-vggface (setup.py) ... \u001b[?25l\u001b[?25hdone\n",
            "  Created wheel for keras-vggface: filename=keras_vggface-0.6-py3-none-any.whl size=8307 sha256=332aa12413783f26d0a69dcc53e0c22311f500e2dbe084a3dceca245b2248be4\n",
            "  Stored in directory: /tmp/pip-ephem-wheel-cache-nll0kgs5/wheels/7a/c1/6e/91fe8b6b4e174d76dfe5cdbe81806ea3439fdd681c289e73f8\n",
            "Successfully built keras-vggface\n",
            "Installing collected packages: keras-vggface\n",
            "Successfully installed keras-vggface-0.6\n"
          ]
        }
      ],
      "source": [
        "! sudo pip install git+https://github.com/rcmalli/keras-vggface.git"
      ]
    },
    {
      "cell_type": "code",
      "execution_count": null,
      "metadata": {
        "colab": {
          "base_uri": "https://localhost:8080/"
        },
        "id": "sctM7AvaeoR-",
        "outputId": "477b6c44-e8dc-4b88-f2ae-555b5249b47e"
      },
      "outputs": [
        {
          "name": "stdout",
          "output_type": "stream",
          "text": [
            "Name: keras-vggface\n",
            "Version: 0.6\n",
            "Summary: VGGFace implementation with Keras framework\n",
            "Home-page: https://github.com/rcmalli/keras-vggface\n",
            "Author: Refik Can MALLI\n",
            "Author-email: mallir@itu.edu.tr\n",
            "License: MIT\n",
            "Location: /usr/local/lib/python3.9/dist-packages\n",
            "Requires: h5py, keras, numpy, pillow, pyyaml, scipy, six\n",
            "Required-by: \n"
          ]
        }
      ],
      "source": [
        "!pip show keras-vggface"
      ]
    },
    {
      "cell_type": "code",
      "execution_count": null,
      "metadata": {
        "colab": {
          "base_uri": "https://localhost:8080/"
        },
        "id": "5uWIDzO5eXFV",
        "outputId": "4f06b11e-127a-4e1c-bf86-4091ed3b41dd"
      },
      "outputs": [
        {
          "name": "stdout",
          "output_type": "stream",
          "text": [
            "Downloading data from https://github.com/rcmalli/keras-vggface/releases/download/v2.0/rcmalli_vggface_tf_vgg16.h5\n",
            "580070376/580070376 [==============================] - 6s 0us/step\n",
            "Model: \"vggface_vgg16\"\n",
            "_________________________________________________________________\n",
            " Layer (type)                Output Shape              Param #   \n",
            "=================================================================\n",
            " input_1 (InputLayer)        [(None, 224, 224, 3)]     0         \n",
            "                                                                 \n",
            " conv1_1 (Conv2D)            (None, 224, 224, 64)      1792      \n",
            "                                                                 \n",
            " conv1_2 (Conv2D)            (None, 224, 224, 64)      36928     \n",
            "                                                                 \n",
            " pool1 (MaxPooling2D)        (None, 112, 112, 64)      0         \n",
            "                                                                 \n",
            " conv2_1 (Conv2D)            (None, 112, 112, 128)     73856     \n",
            "                                                                 \n",
            " conv2_2 (Conv2D)            (None, 112, 112, 128)     147584    \n",
            "                                                                 \n",
            " pool2 (MaxPooling2D)        (None, 56, 56, 128)       0         \n",
            "                                                                 \n",
            " conv3_1 (Conv2D)            (None, 56, 56, 256)       295168    \n",
            "                                                                 \n",
            " conv3_2 (Conv2D)            (None, 56, 56, 256)       590080    \n",
            "                                                                 \n",
            " conv3_3 (Conv2D)            (None, 56, 56, 256)       590080    \n",
            "                                                                 \n",
            " pool3 (MaxPooling2D)        (None, 28, 28, 256)       0         \n",
            "                                                                 \n",
            " conv4_1 (Conv2D)            (None, 28, 28, 512)       1180160   \n",
            "                                                                 \n",
            " conv4_2 (Conv2D)            (None, 28, 28, 512)       2359808   \n",
            "                                                                 \n",
            " conv4_3 (Conv2D)            (None, 28, 28, 512)       2359808   \n",
            "                                                                 \n",
            " pool4 (MaxPooling2D)        (None, 14, 14, 512)       0         \n",
            "                                                                 \n",
            " conv5_1 (Conv2D)            (None, 14, 14, 512)       2359808   \n",
            "                                                                 \n",
            " conv5_2 (Conv2D)            (None, 14, 14, 512)       2359808   \n",
            "                                                                 \n",
            " conv5_3 (Conv2D)            (None, 14, 14, 512)       2359808   \n",
            "                                                                 \n",
            " pool5 (MaxPooling2D)        (None, 7, 7, 512)         0         \n",
            "                                                                 \n",
            " flatten (Flatten)           (None, 25088)             0         \n",
            "                                                                 \n",
            " fc6 (Dense)                 (None, 4096)              102764544 \n",
            "                                                                 \n",
            " fc6/relu (Activation)       (None, 4096)              0         \n",
            "                                                                 \n",
            " fc7 (Dense)                 (None, 4096)              16781312  \n",
            "                                                                 \n",
            " fc7/relu (Activation)       (None, 4096)              0         \n",
            "                                                                 \n",
            " fc8 (Dense)                 (None, 2622)              10742334  \n",
            "                                                                 \n",
            " fc8/softmax (Activation)    (None, 2622)              0         \n",
            "                                                                 \n",
            "=================================================================\n",
            "Total params: 145,002,878\n",
            "Trainable params: 145,002,878\n",
            "Non-trainable params: 0\n",
            "_________________________________________________________________\n",
            "26\n"
          ]
        }
      ],
      "source": [
        "from keras_vggface.vggface import VGGFace\n",
        "\n",
        "base_model = VGGFace(include_top=True,\n",
        "    model='vgg16',\n",
        "    input_shape=(224, 224, 3))\n",
        "base_model.summary()\n",
        "\n",
        "print(len(base_model.layers))"
      ]
    },
    {
      "cell_type": "code",
      "execution_count": null,
      "metadata": {
        "colab": {
          "base_uri": "https://localhost:8080/"
        },
        "id": "EAw0VgYJfIrR",
        "outputId": "17f4bc54-b635-492f-daed-f4b5da641c72"
      },
      "outputs": [
        {
          "name": "stdout",
          "output_type": "stream",
          "text": [
            "Downloading data from https://github.com/rcmalli/keras-vggface/releases/download/v2.0/rcmalli_vggface_tf_notop_vgg16.h5\n",
            "58909280/58909280 [==============================] - 1s 0us/step\n",
            "Model: \"vggface_vgg16\"\n",
            "_________________________________________________________________\n",
            " Layer (type)                Output Shape              Param #   \n",
            "=================================================================\n",
            " input_2 (InputLayer)        [(None, 224, 224, 3)]     0         \n",
            "                                                                 \n",
            " conv1_1 (Conv2D)            (None, 224, 224, 64)      1792      \n",
            "                                                                 \n",
            " conv1_2 (Conv2D)            (None, 224, 224, 64)      36928     \n",
            "                                                                 \n",
            " pool1 (MaxPooling2D)        (None, 112, 112, 64)      0         \n",
            "                                                                 \n",
            " conv2_1 (Conv2D)            (None, 112, 112, 128)     73856     \n",
            "                                                                 \n",
            " conv2_2 (Conv2D)            (None, 112, 112, 128)     147584    \n",
            "                                                                 \n",
            " pool2 (MaxPooling2D)        (None, 56, 56, 128)       0         \n",
            "                                                                 \n",
            " conv3_1 (Conv2D)            (None, 56, 56, 256)       295168    \n",
            "                                                                 \n",
            " conv3_2 (Conv2D)            (None, 56, 56, 256)       590080    \n",
            "                                                                 \n",
            " conv3_3 (Conv2D)            (None, 56, 56, 256)       590080    \n",
            "                                                                 \n",
            " pool3 (MaxPooling2D)        (None, 28, 28, 256)       0         \n",
            "                                                                 \n",
            " conv4_1 (Conv2D)            (None, 28, 28, 512)       1180160   \n",
            "                                                                 \n",
            " conv4_2 (Conv2D)            (None, 28, 28, 512)       2359808   \n",
            "                                                                 \n",
            " conv4_3 (Conv2D)            (None, 28, 28, 512)       2359808   \n",
            "                                                                 \n",
            " pool4 (MaxPooling2D)        (None, 14, 14, 512)       0         \n",
            "                                                                 \n",
            " conv5_1 (Conv2D)            (None, 14, 14, 512)       2359808   \n",
            "                                                                 \n",
            " conv5_2 (Conv2D)            (None, 14, 14, 512)       2359808   \n",
            "                                                                 \n",
            " conv5_3 (Conv2D)            (None, 14, 14, 512)       2359808   \n",
            "                                                                 \n",
            " pool5 (MaxPooling2D)        (None, 7, 7, 512)         0         \n",
            "                                                                 \n",
            "=================================================================\n",
            "Total params: 14,714,688\n",
            "Trainable params: 14,714,688\n",
            "Non-trainable params: 0\n",
            "_________________________________________________________________\n",
            "19\n"
          ]
        }
      ],
      "source": [
        "base_model = VGGFace(include_top=False,\n",
        "model='vgg16',\n",
        "input_shape=(224, 224, 3))\n",
        "base_model.summary()\n",
        "print(len(base_model.layers))\n",
        "# 19 layers after excluding the last few layers"
      ]
    },
    {
      "cell_type": "code",
      "execution_count": null,
      "metadata": {
        "id": "7iopfqCfebZ6"
      },
      "outputs": [],
      "source": [
        "x = base_model.output\n",
        "x = GlobalAveragePooling2D()(x)\n",
        "\n",
        "x = Dense(1024, activation='relu')(x)\n",
        "x = Dense(1024, activation='relu')(x)\n",
        "x = Dense(512, activation='relu')(x)\n",
        "\n",
        "# final layer with softmax activation\n",
        "preds = Dense(CLASSES, activation='softmax')(x)"
      ]
    },
    {
      "cell_type": "code",
      "execution_count": null,
      "metadata": {
        "colab": {
          "base_uri": "https://localhost:8080/"
        },
        "id": "Y117ifG0fAbK",
        "outputId": "77c111d2-58b6-4a05-d23b-c05d2a6d93ca"
      },
      "outputs": [
        {
          "name": "stdout",
          "output_type": "stream",
          "text": [
            "Model: \"model\"\n",
            "_________________________________________________________________\n",
            " Layer (type)                Output Shape              Param #   \n",
            "=================================================================\n",
            " input_2 (InputLayer)        [(None, 224, 224, 3)]     0         \n",
            "                                                                 \n",
            " conv1_1 (Conv2D)            (None, 224, 224, 64)      1792      \n",
            "                                                                 \n",
            " conv1_2 (Conv2D)            (None, 224, 224, 64)      36928     \n",
            "                                                                 \n",
            " pool1 (MaxPooling2D)        (None, 112, 112, 64)      0         \n",
            "                                                                 \n",
            " conv2_1 (Conv2D)            (None, 112, 112, 128)     73856     \n",
            "                                                                 \n",
            " conv2_2 (Conv2D)            (None, 112, 112, 128)     147584    \n",
            "                                                                 \n",
            " pool2 (MaxPooling2D)        (None, 56, 56, 128)       0         \n",
            "                                                                 \n",
            " conv3_1 (Conv2D)            (None, 56, 56, 256)       295168    \n",
            "                                                                 \n",
            " conv3_2 (Conv2D)            (None, 56, 56, 256)       590080    \n",
            "                                                                 \n",
            " conv3_3 (Conv2D)            (None, 56, 56, 256)       590080    \n",
            "                                                                 \n",
            " pool3 (MaxPooling2D)        (None, 28, 28, 256)       0         \n",
            "                                                                 \n",
            " conv4_1 (Conv2D)            (None, 28, 28, 512)       1180160   \n",
            "                                                                 \n",
            " conv4_2 (Conv2D)            (None, 28, 28, 512)       2359808   \n",
            "                                                                 \n",
            " conv4_3 (Conv2D)            (None, 28, 28, 512)       2359808   \n",
            "                                                                 \n",
            " pool4 (MaxPooling2D)        (None, 14, 14, 512)       0         \n",
            "                                                                 \n",
            " conv5_1 (Conv2D)            (None, 14, 14, 512)       2359808   \n",
            "                                                                 \n",
            " conv5_2 (Conv2D)            (None, 14, 14, 512)       2359808   \n",
            "                                                                 \n",
            " conv5_3 (Conv2D)            (None, 14, 14, 512)       2359808   \n",
            "                                                                 \n",
            " pool5 (MaxPooling2D)        (None, 7, 7, 512)         0         \n",
            "                                                                 \n",
            " global_average_pooling2d (G  (None, 512)              0         \n",
            " lobalAveragePooling2D)                                          \n",
            "                                                                 \n",
            " dense (Dense)               (None, 1024)              525312    \n",
            "                                                                 \n",
            " dense_1 (Dense)             (None, 1024)              1049600   \n",
            "                                                                 \n",
            " dense_2 (Dense)             (None, 512)               524800    \n",
            "                                                                 \n",
            " dense_3 (Dense)             (None, 5)                 2565      \n",
            "                                                                 \n",
            "=================================================================\n",
            "Total params: 16,816,965\n",
            "Trainable params: 16,816,965\n",
            "Non-trainable params: 0\n",
            "_________________________________________________________________\n"
          ]
        }
      ],
      "source": [
        "# create a new model with the base model's original input and the \n",
        "# new model's output\n",
        "model = Model(inputs = base_model.input, outputs = preds)\n",
        "model.summary()\n",
        "\n",
        "# don't train the first 19 layers - 0..18\n",
        "for layer in model.layers[:19]:\n",
        "    layer.trainable = False\n",
        "\n",
        "# train the rest of the layers - 19 onwards\n",
        "for layer in model.layers[19:]:\n",
        "    layer.trainable = True"
      ]
    },
    {
      "cell_type": "code",
      "execution_count": null,
      "metadata": {
        "id": "-jtVZ1YHfQcY"
      },
      "outputs": [],
      "source": [
        "model.compile(optimizer='Adam',\n",
        "    loss='categorical_crossentropy',\n",
        "    metrics=['accuracy'])"
      ]
    },
    {
      "cell_type": "code",
      "execution_count": null,
      "metadata": {
        "colab": {
          "base_uri": "https://localhost:8080/"
        },
        "id": "Jhc0R0mBfbCB",
        "outputId": "23f335d8-ca8a-4f01-a841-1e373ae14a4d"
      },
      "outputs": [
        {
          "name": "stdout",
          "output_type": "stream",
          "text": [
            "Epoch 1/5\n"
          ]
        },
        {
          "name": "stderr",
          "output_type": "stream",
          "text": [
            "WARNING:tensorflow:AutoGraph could not transform <function Model.make_train_function.<locals>.train_function at 0x7f6aa6f0f670> and will run it as-is.\n",
            "Please report this to the TensorFlow team. When filing the bug, set the verbosity to 10 (on Linux, `export AUTOGRAPH_VERBOSITY=10`) and attach the full output.\n",
            "Cause: closure mismatch, requested ('self', 'step_function'), but source function had ()\n",
            "To silence this warning, decorate the function with @tf.autograph.experimental.do_not_convert\n"
          ]
        },
        {
          "name": "stdout",
          "output_type": "stream",
          "text": [
            "WARNING: AutoGraph could not transform <function Model.make_train_function.<locals>.train_function at 0x7f6aa6f0f670> and will run it as-is.\n",
            "Please report this to the TensorFlow team. When filing the bug, set the verbosity to 10 (on Linux, `export AUTOGRAPH_VERBOSITY=10`) and attach the full output.\n",
            "Cause: closure mismatch, requested ('self', 'step_function'), but source function had ()\n",
            "To silence this warning, decorate the function with @tf.autograph.experimental.do_not_convert\n"
          ]
        },
        {
          "name": "stderr",
          "output_type": "stream",
          "text": [
            "WARNING:tensorflow:AutoGraph could not transform <bound method _BaseOptimizer._update_step_xla of <tensorflow.python.eager.polymorphic_function.tracing_compiler.TfMethodTarget object at 0x7f6a945afd60>> and will run it as-is.\n",
            "Cause: Unable to locate the source code of <bound method _BaseOptimizer._update_step_xla of <tensorflow.python.eager.polymorphic_function.tracing_compiler.TfMethodTarget object at 0x7f6a945afd60>>. Note that functions defined in certain environments, like the interactive Python shell, do not expose their source code. If that is the case, you should define them in a .py source file. If you are certain the code is graph-compatible, wrap the call using @tf.autograph.experimental.do_not_convert. Original error: could not get source code\n",
            "To silence this warning, decorate the function with @tf.autograph.experimental.do_not_convert\n"
          ]
        },
        {
          "name": "stdout",
          "output_type": "stream",
          "text": [
            "WARNING: AutoGraph could not transform <bound method _BaseOptimizer._update_step_xla of <tensorflow.python.eager.polymorphic_function.tracing_compiler.TfMethodTarget object at 0x7f6a945afd60>> and will run it as-is.\n",
            "Cause: Unable to locate the source code of <bound method _BaseOptimizer._update_step_xla of <tensorflow.python.eager.polymorphic_function.tracing_compiler.TfMethodTarget object at 0x7f6a945afd60>>. Note that functions defined in certain environments, like the interactive Python shell, do not expose their source code. If that is the case, you should define them in a .py source file. If you are certain the code is graph-compatible, wrap the call using @tf.autograph.experimental.do_not_convert. Original error: could not get source code\n",
            "To silence this warning, decorate the function with @tf.autograph.experimental.do_not_convert\n",
            "9/9 [==============================] - ETA: 0s - loss: 1.0956 - accuracy: 0.7080"
          ]
        },
        {
          "name": "stderr",
          "output_type": "stream",
          "text": [
            "WARNING:tensorflow:AutoGraph could not transform <function Model.make_test_function.<locals>.test_function at 0x7f6aa6e6bd30> and will run it as-is.\n",
            "Please report this to the TensorFlow team. When filing the bug, set the verbosity to 10 (on Linux, `export AUTOGRAPH_VERBOSITY=10`) and attach the full output.\n",
            "Cause: closure mismatch, requested ('self', 'step_function'), but source function had ()\n",
            "To silence this warning, decorate the function with @tf.autograph.experimental.do_not_convert\n"
          ]
        },
        {
          "name": "stdout",
          "output_type": "stream",
          "text": [
            "WARNING: AutoGraph could not transform <function Model.make_test_function.<locals>.test_function at 0x7f6aa6e6bd30> and will run it as-is.\n",
            "Please report this to the TensorFlow team. When filing the bug, set the verbosity to 10 (on Linux, `export AUTOGRAPH_VERBOSITY=10`) and attach the full output.\n",
            "Cause: closure mismatch, requested ('self', 'step_function'), but source function had ()\n",
            "To silence this warning, decorate the function with @tf.autograph.experimental.do_not_convert\n",
            "9/9 [==============================] - 22s 814ms/step - loss: 1.0956 - accuracy: 0.7080 - val_loss: 0.2965 - val_accuracy: 0.9500\n",
            "Epoch 2/5\n",
            "9/9 [==============================] - 3s 284ms/step - loss: 0.1004 - accuracy: 0.9891 - val_loss: 0.0090 - val_accuracy: 1.0000\n",
            "Epoch 3/5\n",
            "9/9 [==============================] - 2s 227ms/step - loss: 0.0088 - accuracy: 0.9964 - val_loss: 0.0023 - val_accuracy: 1.0000\n",
            "Epoch 4/5\n",
            "9/9 [==============================] - 2s 227ms/step - loss: 7.7450e-04 - accuracy: 1.0000 - val_loss: 1.8335e-04 - val_accuracy: 1.0000\n",
            "Epoch 5/5\n",
            "9/9 [==============================] - 2s 221ms/step - loss: 1.2323e-04 - accuracy: 1.0000 - val_loss: 1.4668e-04 - val_accuracy: 1.0000\n"
          ]
        },
        {
          "data": {
            "text/plain": [
              "<keras.callbacks.History at 0x7f6aa6f104c0>"
            ]
          },
          "execution_count": 13,
          "metadata": {},
          "output_type": "execute_result"
        }
      ],
      "source": [
        "model.fit(train_generator,\n",
        "  batch_size = 32,\n",
        "  steps_per_epoch=len(train_generator),\n",
        "  validation_data=test_generator,\n",
        "  validation_steps=len(test_generator),\n",
        "  verbose = 1,\n",
        "  epochs = 5)"
      ]
    },
    {
      "cell_type": "code",
      "execution_count": null,
      "metadata": {
        "colab": {
          "base_uri": "https://localhost:8080/"
        },
        "id": "YMh25Bj78eZf",
        "outputId": "853648ce-166d-4d2a-fe33-14f25defb236"
      },
      "outputs": [
        {
          "name": "stdout",
          "output_type": "stream",
          "text": [
            "2/2 [==============================] - 1s 226ms/step - loss: 1.4668e-04 - accuracy: 1.0000\n"
          ]
        },
        {
          "data": {
            "text/plain": [
              "[0.00014668426592834294, 1.0]"
            ]
          },
          "execution_count": 14,
          "metadata": {},
          "output_type": "execute_result"
        }
      ],
      "source": [
        "model.evaluate(test_generator)"
      ]
    },
    {
      "cell_type": "code",
      "execution_count": null,
      "metadata": {
        "id": "AquL6gushCZH"
      },
      "outputs": [],
      "source": [
        "# creates a HDF5 file\n",
        "model.save(\n",
        "    'transfer_learning_trained' +\n",
        "    '5_classes_face_cnn_model.h5')"
      ]
    }
  ],
  "metadata": {
    "accelerator": "GPU",
    "colab": {
      "provenance": []
    },
    "gpuClass": "standard",
    "kernelspec": {
      "display_name": "Python 3",
      "name": "python3"
    },
    "language_info": {
      "codemirror_mode": {
        "name": "ipython",
        "version": 3
      },
      "file_extension": ".py",
      "mimetype": "text/x-python",
      "name": "python",
      "nbconvert_exporter": "python",
      "pygments_lexer": "ipython3",
      "version": "3.9.13"
    }
  },
  "nbformat": 4,
  "nbformat_minor": 0
}
