{
 "cells": [
  {
   "cell_type": "code",
   "execution_count": 7,
   "metadata": {},
   "outputs": [
    {
     "name": "stdout",
     "output_type": "stream",
     "text": [
      "Directory  /Users/ds_learner16 /.deepface created\n",
      "Directory  /Users/ds_learner16 /.deepface/weights created\n"
     ]
    }
   ],
   "source": [
    "import os\n",
    "from tqdm import tqdm\n",
    "import pandas as pd\n",
    "import numpy as np\n",
    "import pickle\n",
    "import matplotlib.pyplot as plt\n",
    "import math\n",
    "import time\n",
    "\n",
    "import psycopg2\n",
    "from sqlalchemy import create_engine, Column, Integer, String, LargeBinary, Float\n",
    "from sqlalchemy.orm import sessionmaker\n",
    "from sqlalchemy.ext.declarative import declarative_base\n",
    "\n",
    "from deepface import DeepFace\n",
    "from deepface.commons import functions\n",
    "\n",
    "Base = declarative_base()\n",
    "\n",
    "# create an engine to connect to the PostgreSQL database\n",
    "engine = create_engine('postgresql://postgres:@localhost:5430/faceio')"
   ]
  },
  {
   "cell_type": "code",
   "execution_count": 8,
   "metadata": {},
   "outputs": [],
   "source": [
    "class FaceMeta(Base):\n",
    "    __tablename__ = 'face_meta'\n",
    "\n",
    "    id = Column(Integer, primary_key=True)\n",
    "    empl_no = Column(Integer, nullable=False)\n",
    "    img_name = Column(String, nullable=False)\n",
    "    embedding = Column(LargeBinary, nullable=False)\n",
    "\n",
    "class FaceEmbedding(Base):\n",
    "    __tablename__ = 'face_embeddings'\n",
    "\n",
    "    id = Column(Integer, primary_key=True)\n",
    "    face_id = Column(Integer, nullable=False)\n",
    "    dimension = Column(Integer, nullable=False)\n",
    "    value = Column(Float, nullable=False)\n"
   ]
  },
  {
   "cell_type": "code",
   "execution_count": 10,
   "metadata": {},
   "outputs": [
    {
     "name": "stderr",
     "output_type": "stream",
     "text": [
      "  0%|          | 0/1304 [00:00<?, ?it/s]\n"
     ]
    },
    {
     "ename": "AttributeError",
     "evalue": "module 'keras.preprocessing.image' has no attribute 'load_img'",
     "output_type": "error",
     "traceback": [
      "\u001b[0;31m---------------------------------------------------------------------------\u001b[0m",
      "\u001b[0;31mAttributeError\u001b[0m                            Traceback (most recent call last)",
      "Cell \u001b[0;32mIn[10], line 22\u001b[0m\n\u001b[1;32m     19\u001b[0m facial_img_path \u001b[39m=\u001b[39m facial_img_paths[i]\n\u001b[1;32m     21\u001b[0m \u001b[39m#load image and preprocess\u001b[39;00m\n\u001b[0;32m---> 22\u001b[0m img \u001b[39m=\u001b[39m image\u001b[39m.\u001b[39;49mload_img(facial_img_path, target_size\u001b[39m=\u001b[39m(\u001b[39m160\u001b[39m, \u001b[39m160\u001b[39m))\n\u001b[1;32m     23\u001b[0m x \u001b[39m=\u001b[39m image\u001b[39m.\u001b[39mimg_to_array(img)\n\u001b[1;32m     24\u001b[0m x \u001b[39m=\u001b[39m np\u001b[39m.\u001b[39mexpand_dims(x, axis\u001b[39m=\u001b[39m\u001b[39m0\u001b[39m)\n",
      "\u001b[0;31mAttributeError\u001b[0m: module 'keras.preprocessing.image' has no attribute 'load_img'"
     ]
    }
   ],
   "source": [
    "from keras.preprocessing import image\n",
    "from keras_applications.inception_resnet_v2 import preprocess_input\n",
    "import tensorflow as tf \n",
    "\n",
    "Base.metadata.create_all(engine)\n",
    "Session = sessionmaker(bind=engine)\n",
    "session = Session()\n",
    "model = DeepFace.build_model(\"Facenet\")\n",
    "\n",
    "\n",
    "facial_img_paths = []\n",
    "\n",
    "for root, directory, files in os.walk(\"/Users/ds_learner16/Documents/Face.io/photos/train\"):\n",
    "    for file in files:\n",
    "        if '.jpg' in file:\n",
    "            facial_img_paths.append(root+\"/\"+file)\n",
    "instances = []\n",
    "\n",
    "for i in tqdm(range(0, len(facial_img_paths))):\n",
    "    facial_img_path = facial_img_paths[i]\n",
    "\n",
    "    #load image and preprocess\n",
    "    img = tf.keras.preprocessing.image.load_img(facial_img_path, target_size=(160, 160))\n",
    "    x = image.img_to_array(img)\n",
    "    x = np.expand_dims(x, axis=0)\n",
    "    x = preprocess_input(x)\n",
    "\n",
    "    #represent\n",
    "    embedding = model.predict(x)[0]\n",
    "\n",
    "    #store\n",
    "    instance = []\n",
    "    instance.append(facial_img_path)\n",
    "    instance.append(embedding)\n",
    "    instances.append(instance)\n",
    "\n",
    "df = pd.DataFrame(instances, columns=[\"img_name\", \"embedding\"])"
   ]
  },
  {
   "cell_type": "code",
   "execution_count": null,
   "metadata": {},
   "outputs": [],
   "source": [
    "for index, instance in tqdm(df.iterrows(), total=df.shape[0]):\n",
    "    img_name = instance[\"img_name\"]\n",
    "    embeddings = instance[\"embedding\"]\n",
    "\n",
    "    face_meta = FaceMeta(empl_no=index, img_name=img_name, embedding=embeddings.tobytes())\n",
    "    session.add(face_meta)\n",
    "\n",
    "    for i, embedding in enumerate(embeddings):\n",
    "        face_embedding = FaceEmbedding(face_id=index, dimension=i, value=float(embedding))\n",
    "        session.add(face_embedding)\n",
    "\n",
    "session.commit()\n"
   ]
  },
  {
   "cell_type": "code",
   "execution_count": 4,
   "metadata": {},
   "outputs": [
    {
     "name": "stdout",
     "output_type": "stream",
     "text": [
      "Collecting deepface\n",
      "  Using cached deepface-0.0.79-py3-none-any.whl (49 kB)\n",
      "Installing collected packages: deepface\n",
      "Successfully installed deepface-0.0.79\n"
     ]
    }
   ],
   "source": [
    "!pip install --no-deps deepface"
   ]
  },
  {
   "cell_type": "code",
   "execution_count": 6,
   "metadata": {},
   "outputs": [
    {
     "name": "stdout",
     "output_type": "stream",
     "text": [
      "Collecting gdown\n",
      "  Using cached gdown-4.7.1-py3-none-any.whl (15 kB)\n",
      "Requirement already satisfied: beautifulsoup4 in /Users/ds_learner16/anaconda3/lib/python3.10/site-packages (from gdown) (4.11.1)\n",
      "Requirement already satisfied: six in /Users/ds_learner16/anaconda3/lib/python3.10/site-packages (from gdown) (1.16.0)\n",
      "Requirement already satisfied: tqdm in /Users/ds_learner16/anaconda3/lib/python3.10/site-packages (from gdown) (4.64.1)\n",
      "Requirement already satisfied: filelock in /Users/ds_learner16/anaconda3/lib/python3.10/site-packages (from gdown) (3.9.0)\n",
      "Requirement already satisfied: requests[socks] in /Users/ds_learner16/anaconda3/lib/python3.10/site-packages (from gdown) (2.28.1)\n",
      "Requirement already satisfied: soupsieve>1.2 in /Users/ds_learner16/anaconda3/lib/python3.10/site-packages (from beautifulsoup4->gdown) (2.3.2.post1)\n",
      "Requirement already satisfied: urllib3<1.27,>=1.21.1 in /Users/ds_learner16/anaconda3/lib/python3.10/site-packages (from requests[socks]->gdown) (1.26.14)\n",
      "Requirement already satisfied: idna<4,>=2.5 in /Users/ds_learner16/anaconda3/lib/python3.10/site-packages (from requests[socks]->gdown) (3.4)\n",
      "Requirement already satisfied: charset-normalizer<3,>=2 in /Users/ds_learner16/anaconda3/lib/python3.10/site-packages (from requests[socks]->gdown) (2.0.4)\n",
      "Requirement already satisfied: certifi>=2017.4.17 in /Users/ds_learner16/anaconda3/lib/python3.10/site-packages (from requests[socks]->gdown) (2022.12.7)\n",
      "Requirement already satisfied: PySocks!=1.5.7,>=1.5.6 in /Users/ds_learner16/anaconda3/lib/python3.10/site-packages (from requests[socks]->gdown) (1.7.1)\n",
      "Installing collected packages: gdown\n",
      "\u001b[31mERROR: pip's dependency resolver does not currently take into account all the packages that are installed. This behaviour is the source of the following dependency conflicts.\n",
      "deepface 0.0.79 requires fire>=0.4.0, which is not installed.\n",
      "deepface 0.0.79 requires gunicorn>=20.1.0, which is not installed.\n",
      "deepface 0.0.79 requires mtcnn>=0.1.0, which is not installed.\n",
      "deepface 0.0.79 requires retina-face>=0.0.1, which is not installed.\n",
      "deepface 0.0.79 requires tensorflow>=1.9.0, which is not installed.\u001b[0m\u001b[31m\n",
      "\u001b[0mSuccessfully installed gdown-4.7.1\n"
     ]
    }
   ],
   "source": [
    "!pip install gdown"
   ]
  },
  {
   "cell_type": "code",
   "execution_count": null,
   "metadata": {},
   "outputs": [],
   "source": []
  }
 ],
 "metadata": {
  "kernelspec": {
   "display_name": "base",
   "language": "python",
   "name": "python3"
  },
  "language_info": {
   "codemirror_mode": {
    "name": "ipython",
    "version": 3
   },
   "file_extension": ".py",
   "mimetype": "text/x-python",
   "name": "python",
   "nbconvert_exporter": "python",
   "pygments_lexer": "ipython3",
   "version": "3.10.9"
  },
  "orig_nbformat": 4
 },
 "nbformat": 4,
 "nbformat_minor": 2
}
